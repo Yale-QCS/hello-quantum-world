{
  "nbformat": 4,
  "nbformat_minor": 0,
  "metadata": {
    "colab": {
      "provenance": [],
      "toc_visible": true,
      "authorship_tag": "ABX9TyPUUweA81j9s+rn09oeSFcA",
      "include_colab_link": true
    },
    "kernelspec": {
      "name": "python3",
      "display_name": "Python 3"
    },
    "language_info": {
      "name": "python"
    }
  },
  "cells": [
    {
      "cell_type": "markdown",
      "metadata": {
        "id": "view-in-github",
        "colab_type": "text"
      },
      "source": [
        "<a href=\"https://colab.research.google.com/github/Yale-QCS/hello-quantum-world/blob/main/quantum101.ipynb\" target=\"_parent\"><img src=\"https://colab.research.google.com/assets/colab-badge.svg\" alt=\"Open In Colab\"/></a>"
      ]
    },
    {
      "cell_type": "markdown",
      "source": [
        "<h1> Welcome to ⟨hello|Quantum|world⟩!</h1>\n",
        "\n",
        "Get ready to discover the new frontier in computing and probe into the quantum world from your fingertips. In this tutorial, we will delve into the fundamental principles of quantum computing.\n",
        "\n",
        "## What will you learn?\n",
        "⟨hello|Quantum|world⟩ consists of two sessions:\n",
        "* session 1: Understanding quantum computing via QuTiP. (30-45 mins)\n",
        " * superposition, measurement, interference, entanglement\n",
        " * gate commutation relations, circuit simulations\n",
        " * Bloch sphere representation, phase kickback\n",
        "* session 2: Accessing actual quantum hardware via Qiskit. (30-45 mins)\n",
        " * Fending off decoherence.\n",
        " * Fighting systematic control errors.\n",
        "\n"
      ],
      "metadata": {
        "id": "a_XNQOceEmC_"
      }
    },
    {
      "cell_type": "markdown",
      "source": [
        "\n",
        "\n",
        "---\n",
        "\n"
      ],
      "metadata": {
        "id": "pnIe2FOQcJxw"
      }
    },
    {
      "cell_type": "markdown",
      "source": [
        "# Getting Started\n",
        "Install required packages:"
      ],
      "metadata": {
        "id": "HNe2ebhpr7vd"
      }
    },
    {
      "cell_type": "code",
      "source": [
        "pip install qutip qutip_qip"
      ],
      "metadata": {
        "id": "lXvQkGp2sDe3"
      },
      "execution_count": null,
      "outputs": []
    },
    {
      "cell_type": "markdown",
      "source": [
        "Set up programming envinroment:"
      ],
      "metadata": {
        "id": "uRw6HS3NAa0g"
      }
    },
    {
      "cell_type": "code",
      "source": [
        "from qutip import about\n",
        "from qutip import basis, fidelity, Bloch, tensor, rand_dm, rand_ket, mesolve, Qobj\n",
        "from qutip import identity, sigmam, sigmax, sigmay, sigmaz\n",
        "from qutip_qip.operations import gate_sequence_product\n",
        "from qutip_qip.circuit import QubitCircuit, CircuitSimulator\n",
        "from qutip_qip.qasm import read_qasm, print_qasm\n",
        "import matplotlib.pyplot as plt\n",
        "import numpy as np\n",
        "from mpl_toolkits.mplot3d import Axes3D\n",
        "from qutip.ipynbtools import plot_animation\n",
        "from qutip.measurement import measure\n",
        "\n",
        "%matplotlib inline"
      ],
      "metadata": {
        "id": "DHGU_pXRAcGB"
      },
      "execution_count": null,
      "outputs": []
    },
    {
      "cell_type": "markdown",
      "source": [
        "Verify environment (QuTiP Version: 4.7.1):"
      ],
      "metadata": {
        "id": "hzQ7sksBvQof"
      }
    },
    {
      "cell_type": "code",
      "source": [
        "about()"
      ],
      "metadata": {
        "id": "DzKV6OxkvOmm"
      },
      "execution_count": null,
      "outputs": []
    },
    {
      "cell_type": "markdown",
      "source": [
        "\n",
        "\n",
        "---\n",
        "\n"
      ],
      "metadata": {
        "id": "wRbNpY9bb-FQ"
      }
    },
    {
      "cell_type": "markdown",
      "source": [
        "# Session 1 - Fundamentals of quantum programming"
      ],
      "metadata": {
        "id": "lz4uhA_4Oo--"
      }
    },
    {
      "cell_type": "markdown",
      "source": [
        "### Data types and operators\n",
        "\n",
        "Qubits are two-level quantum systems. For example, we use energy levels of natural or artificial atoms. The quantum information stored in qubits can be described mathematically by a superposition of basis states, such as |0⟩ and |1⟩."
      ],
      "metadata": {
        "id": "GXaFkgV22pG_"
      }
    },
    {
      "cell_type": "code",
      "execution_count": null,
      "metadata": {
        "id": "9814KrrlEgHS"
      },
      "outputs": [],
      "source": [
        "ket_zero = basis(2,0)\n",
        "ket_one = basis(2,1)\n",
        "psi = 0.6*ket_zero + 0.8*ket_one"
      ]
    },
    {
      "cell_type": "markdown",
      "source": [
        "We can visualize the quantum state on a Bloch sphere:"
      ],
      "metadata": {
        "id": "pc9BGqDKqAFe"
      }
    },
    {
      "cell_type": "code",
      "source": [
        "b = Bloch()\n",
        "b.add_states(psi)\n",
        "b.show()"
      ],
      "metadata": {
        "id": "EMZ4uoqXrNL9"
      },
      "execution_count": null,
      "outputs": []
    },
    {
      "cell_type": "markdown",
      "source": [
        "Define common quantum states: |+⟩, |-⟩, |+i⟩, |-i⟩. It's important to note that all quantum states must be normalized, i.e., |𝛹⟩= α|0⟩ + β|1⟩, where |α|^2+|β|^2 = 1."
      ],
      "metadata": {
        "id": "eLwWx3Zjrg-M"
      }
    },
    {
      "cell_type": "code",
      "source": [
        "# Your implementation here\n",
        "ket_plus = (ket_zero + (1+0j)*ket_one).unit()\n",
        "ket_minus = rand_ket(2) # Replace me\n",
        "ket_plus_i = rand_ket(2) # Replace me\n",
        "ket_minus_i = rand_ket(2) # Replace me"
      ],
      "metadata": {
        "id": "5nrY7t2mrft2"
      },
      "execution_count": null,
      "outputs": []
    },
    {
      "cell_type": "markdown",
      "source": [
        "Multiple qubits represent a higher dimensional Hilbert space: |000⟩ = |0⟩⊗|0⟩⊗|0⟩"
      ],
      "metadata": {
        "id": "hGt8t65sxGbG"
      }
    },
    {
      "cell_type": "code",
      "source": [
        "ket_zeros = basis([2] * 3, [0] * 3)\n",
        "assert(ket_zeros == tensor(ket_zero,ket_zero,ket_zero))"
      ],
      "metadata": {
        "id": "yQaMRUFOxVx7"
      },
      "execution_count": null,
      "outputs": []
    },
    {
      "cell_type": "markdown",
      "source": [
        "What is |+++>?"
      ],
      "metadata": {
        "id": "6N5zQFulyG70"
      }
    },
    {
      "cell_type": "code",
      "source": [
        "# Your implementation here\n",
        "ket_pluses = rand_ket(8) # Replace me"
      ],
      "metadata": {
        "id": "ndscFW58yQv1"
      },
      "execution_count": null,
      "outputs": []
    },
    {
      "cell_type": "markdown",
      "source": [
        "QuTiP has some useful built-in quantum gates:\n",
        "\n",
        "*   Hadamard gate: `snot(), 'SNOT'`\n",
        "*   Pauli X gate: `x_gate(), 'X'`\n",
        "*   Pauli Y gate: `y_gate(), 'Y'`\n",
        "*   Pauli Z gate: `z_gate(), 'Z'`\n",
        "*   CNOT gate: `cnot(), 'CNOT'`\n",
        "\n",
        "You can find more details about built-in operations by importing their associated object in QuTiP:\n"
      ],
      "metadata": {
        "id": "c-14AebawJmv"
      }
    },
    {
      "cell_type": "code",
      "source": [
        "from qutip_qip.operations import (Gate, snot, x_gate, y_gate, z_gate,\n",
        "                                  rx, ry, rz, cnot, cphase, swap, iswap,\n",
        "                                  sqrtnot, toffoli, fredkin,\n",
        "                                  gate_sequence_product, globalphase)"
      ],
      "metadata": {
        "id": "ko2OfGTFzmR0"
      },
      "execution_count": null,
      "outputs": []
    },
    {
      "cell_type": "markdown",
      "source": [
        "Applying Hadamard gate twice does nothing, because multiplying two H gate matrices is equivalent to the identity, i.e., HH = I:"
      ],
      "metadata": {
        "id": "Ap8o-UbM2F-j"
      }
    },
    {
      "cell_type": "code",
      "source": [
        "U = gate_sequence_product([snot(), snot()])\n",
        "U.tidyup()\n",
        "U == identity(2)"
      ],
      "metadata": {
        "id": "HEFFbdc02Lyq"
      },
      "execution_count": null,
      "outputs": []
    },
    {
      "cell_type": "markdown",
      "source": [
        "Which other gates are their own inverses?"
      ],
      "metadata": {
        "id": "BL02VExb5a7g"
      }
    },
    {
      "cell_type": "code",
      "source": [
        "# Your implementation here\n"
      ],
      "metadata": {
        "id": "_cq3hrPEYveY"
      },
      "execution_count": null,
      "outputs": []
    },
    {
      "cell_type": "markdown",
      "source": [
        "\n",
        "\n",
        "---\n",
        "\n"
      ],
      "metadata": {
        "id": "RRwySy0Zb6Kz"
      }
    },
    {
      "cell_type": "markdown",
      "source": [
        "### Quantum circuits\n",
        "\n",
        "Creating an EPR pair using a circuit of two qubits. We can output its associated \"assembly instructions\", which is a common low-level machine language that can be interpreted by a quantum hardware."
      ],
      "metadata": {
        "id": "fHWDOvetsoyR"
      }
    },
    {
      "cell_type": "code",
      "source": [
        "qc = QubitCircuit(2)\n",
        "qc.add_gate(\"SNOT\", targets=[0])\n",
        "qc.add_gate(\"CNOT\", targets=[1], controls=[0])\n",
        "print_qasm(qc)"
      ],
      "metadata": {
        "id": "wFwnRZGgszST"
      },
      "execution_count": null,
      "outputs": []
    },
    {
      "cell_type": "markdown",
      "source": [
        "In a quantum circuit, does the ordering of applying the gates matter? Whether we can reorder two gates is determined by their commutation relation. For example, because (I⊗X)(X⊗I) = (X⊗I)(I⊗X), the following two quantum circuits are equivalent:"
      ],
      "metadata": {
        "id": "eRPW9Eeu3DUm"
      }
    },
    {
      "cell_type": "code",
      "source": [
        "qc1 = QubitCircuit(2)\n",
        "qc1.add_gate(\"X\", targets=[0])\n",
        "qc1.add_gate(\"X\", targets=[1])\n",
        "\n",
        "qc2 = QubitCircuit(2)\n",
        "qc2.add_gate(\"X\", targets=[1])\n",
        "qc2.add_gate(\"X\", targets=[0])\n",
        "\n",
        "(gate_sequence_product(qc1.propagators()) == gate_sequence_product(qc2.propagators()))"
      ],
      "metadata": {
        "id": "N6L7EPQt3ICN"
      },
      "execution_count": null,
      "outputs": []
    },
    {
      "cell_type": "markdown",
      "source": [
        "Can you interchange the ordering of H gate and X gate on the same qubit?"
      ],
      "metadata": {
        "id": "YcVtSojkzc3o"
      }
    },
    {
      "cell_type": "code",
      "source": [
        "qc1 = QubitCircuit(1)\n",
        "qc1.add_gate(\"SNOT\", targets=[0])\n",
        "qc1.add_gate(\"X\", targets=[0])\n",
        "\n",
        "qc2 = QubitCircuit(1)\n",
        "qc2.add_gate(\"X\", targets=[0])\n",
        "qc2.add_gate(\"SNOT\", targets=[0])\n",
        "\n",
        "(gate_sequence_product(qc1.propagators()) == gate_sequence_product(qc2.propagators()))"
      ],
      "metadata": {
        "id": "tNXAGpubz4xx"
      },
      "execution_count": null,
      "outputs": []
    },
    {
      "cell_type": "markdown",
      "source": [
        "What about the following two circuits? Are they equivalent? Can you verify mathematically that's true?"
      ],
      "metadata": {
        "id": "SNT8OjDDz_KC"
      }
    },
    {
      "cell_type": "code",
      "source": [
        "qc1 = QubitCircuit(1)\n",
        "qc1.add_gate(\"SNOT\", targets=[0])\n",
        "qc1.add_gate(\"X\", targets=[0])\n",
        "\n",
        "qc2 = QubitCircuit(1)\n",
        "qc2.add_gate(\"Z\", targets=[0])\n",
        "qc2.add_gate(\"SNOT\", targets=[0])\n",
        "\n",
        "(gate_sequence_product(qc1.propagators()) == gate_sequence_product(qc2.propagators()))"
      ],
      "metadata": {
        "id": "5oh7pnFv0QPZ"
      },
      "execution_count": null,
      "outputs": []
    },
    {
      "cell_type": "markdown",
      "source": [
        "Circuit simulation and reasoning over code. (Limited to small programs.)"
      ],
      "metadata": {
        "id": "UN45v3ai8Yjd"
      }
    },
    {
      "cell_type": "code",
      "source": [
        "qc = QubitCircuit(2)\n",
        "qc.add_gate(\"SNOT\", targets=[0])\n",
        "qc.add_gate(\"CNOT\", targets=[1], controls=[0])\n",
        "#print_qasm(qc)\n",
        "print(\"\\n===Simulation Results===\\n\")\n",
        "initial_state = tensor(ket_zero, ket_zero)\n",
        "sim = CircuitSimulator(qc)\n",
        "print(\"Initial state:\\n\" , initial_state)\n",
        "results = sim.run(state=initial_state)\n",
        "print(\"Final state:\\n\", results.final_states)"
      ],
      "metadata": {
        "id": "20pCww0X8heo"
      },
      "execution_count": null,
      "outputs": []
    },
    {
      "cell_type": "markdown",
      "source": [
        "\n",
        "\n",
        "---\n",
        "\n"
      ],
      "metadata": {
        "id": "kJU7wHKtb22g"
      }
    },
    {
      "cell_type": "markdown",
      "source": [
        "### Interference and entanglement\n",
        "\n",
        "In the lecture, we saw how applying a Hadamard gate on the |+⟩=|0⟩+|1⟩ state will cause the state to interfere constructively on |0⟩ and destructively on |1⟩. What if the qubit was entangled with another qubit, will the interference pattern look different? Specifically, what would happen if we apply a Hadamard gate to the first qubit of |00⟩+|11⟩?"
      ],
      "metadata": {
        "id": "FScpJ5EJ88ST"
      }
    },
    {
      "cell_type": "code",
      "source": [
        "qc = QubitCircuit(2, num_cbits=1)\n",
        "qc.add_gate(\"SNOT\", targets=[0])\n",
        "qc.add_gate(\"CNOT\", targets=[1], controls=[0])\n",
        "qc.add_gate(\"SNOT\", targets=[0])\n",
        "qc.add_measurement(\"M0\", targets=[0], classical_store=0)\n",
        "print_qasm(qc)"
      ],
      "metadata": {
        "id": "FLADVQcGGMEP"
      },
      "execution_count": null,
      "outputs": []
    },
    {
      "cell_type": "markdown",
      "source": [
        "Does the CNOT gate change the state of the control qubit? Check result from measuring the first qubit, which include the measurement outcome, the remaining state of the second qubit, and their associated probability."
      ],
      "metadata": {
        "id": "XF5BNPAg7HV8"
      }
    },
    {
      "cell_type": "code",
      "source": [
        "initial = tensor(ket_zero, ket_zero)\n",
        "results = qc.run_statistics(initial)\n",
        "for cbit, state, prob in zip(results.cbits, results.final_states, results.probabilities):\n",
        "    print(\"Measurement result: {}\\nState:\\n{}\\nwith probability {}\\n\".format(cbit,state, prob))"
      ],
      "metadata": {
        "id": "1tDulC3R7Grk"
      },
      "execution_count": null,
      "outputs": []
    },
    {
      "cell_type": "markdown",
      "source": [
        "What if we change the initial state?"
      ],
      "metadata": {
        "id": "K8XY6A9Z-VaZ"
      }
    },
    {
      "cell_type": "code",
      "source": [
        "initial = tensor(ket_zero, ket_plus)\n",
        "results = qc.run_statistics(initial)\n",
        "for cbit, state, prob in zip(results.cbits, results.final_states, results.probabilities):\n",
        "    print(\"Measurement result: {}\\nState:\\n{}\\nwith probability {}\\n\".format(cbit, state, prob))"
      ],
      "metadata": {
        "id": "ioEMvf8e-X4Q"
      },
      "execution_count": null,
      "outputs": []
    },
    {
      "cell_type": "markdown",
      "source": [
        "Notice that the two qubits stay unentangled. This is because |+> is an eigenstate of X gate with eigenvalue 1, i.e., X|+> = |+>. So the CX gate does not have any effect on the second qubit.\n",
        "\n",
        "What about |0->?"
      ],
      "metadata": {
        "id": "bM1C05ji_AJo"
      }
    },
    {
      "cell_type": "code",
      "source": [
        "initial = tensor(ket_zero, ket_minus)\n",
        "results = qc.run_statistics(initial)\n",
        "for cbit, state, prob in zip(results.cbits, results.final_states, results.probabilities):\n",
        "    print(\"Measurement result: {}\\nState:\\n{}\\nwith probability {}\\n\".format(cbit, state, prob))"
      ],
      "metadata": {
        "id": "GQXJTecw_CzE"
      },
      "execution_count": null,
      "outputs": []
    },
    {
      "cell_type": "markdown",
      "source": [
        "Here the two qubits are |-> is an eigenstate of X but with eigenvalue -1. So after the CX gate, the control qubit picks up a phase: |-->.\n",
        "\n",
        "This phenomenon is called \"phase kickback\", a technique widely used in quantum algorithms, such as the Bernstein-Vazirani algorithm and the phase estimation algorithm."
      ],
      "metadata": {
        "id": "mH4JVrjfAwCD"
      }
    },
    {
      "cell_type": "markdown",
      "source": [
        "\n",
        "\n",
        "---\n",
        "\n"
      ],
      "metadata": {
        "id": "vtziZeJNbyKw"
      }
    },
    {
      "cell_type": "markdown",
      "source": [
        "### Flipping quantum coins\n",
        "\n",
        "Suppose your quantum physcist friend has promised to send you multiple identical quantum coins, which store some unknown quantum state (in our case we use `rand_ket(2)` to simulate). Can you use the following measurement experiments to determine the state of the coin? Feel free to verify its Bloch sphere coordinates via plotting `Bloch()`."
      ],
      "metadata": {
        "id": "XGgTbgoQKBeV"
      }
    },
    {
      "cell_type": "code",
      "source": [
        "def one_shot_measure(qc, input, n):\n",
        "  results = qc.run_statistics(input)\n",
        "  prob = results.probabilities\n",
        "  bits = [np.binary_repr(i, width=n) for i in range(2**n)]\n",
        "  return np.random.choice(bits, 1, p=prob)\n",
        "\n",
        "def S_dag():\n",
        "  # Custom S dagger gate\n",
        "  mat = np.array([[1.,   0],\n",
        "                 [0., -1.j]])\n",
        "  return Qobj(mat, dims=[[2], [2]])\n",
        "\n",
        "def flip_quantum_coin(coin axis='z'):\n",
        "  qc = QubitCircuit(1, num_cbits=1)\n",
        "  if axis == 'x':\n",
        "    qc.add_gate(\"SNOT\", targets=[0])\n",
        "    qc.add_measurement(\"M0\", targets=[0], classical_store=0)\n",
        "  elif axis == 'y':\n",
        "    qc.user_gates = {\"SDAG\": S_dag} # Custom gate for SDAG\n",
        "    qc.add_gate(\"SDAG\", targets=[0])\n",
        "    qc.add_gate(\"SNOT\", targets=[0])\n",
        "    qc.add_measurement(\"M0\", targets=[0], classical_store=0)\n",
        "  elif axis == 'z':\n",
        "    qc.add_measurement(\"M0\", targets=[0], classical_store=0)\n",
        "  else:\n",
        "    print(\"Axis {} not supported.\\n\".format(axis))\n",
        "  #print_qasm(qc)\n",
        "  results = one_shot_measure(qc, coin, 1)\n",
        "  return results\n",
        "\n",
        "coin = rand_ket(2)\n",
        "# Can you repeat the experiment to estiamte the coin's x, y, z coordinates in the Bloch sphere?\n",
        "# Your implementation here\n",
        "x_val = 1- 2*int(flip_quantum_coins(coin, 1, 'x')[0]) # Set '0' to +1, '1' to -1\n",
        "y_val = 0\n",
        "z_val = 0\n",
        "\n",
        "b = Bloch()\n",
        "b.add_states(coin)\n",
        "b.add_points([x_val, y_val, z_val])\n",
        "b.show()"
      ],
      "metadata": {
        "id": "bh2FWrhpYt8f"
      },
      "execution_count": null,
      "outputs": []
    },
    {
      "cell_type": "markdown",
      "source": [
        "\n",
        "\n",
        "---\n",
        "\n"
      ],
      "metadata": {
        "id": "uWklAGqtcAjk"
      }
    },
    {
      "cell_type": "markdown",
      "source": [
        "# Session 2 - Probing quantum hardware\n",
        "\n",
        "Reach out to the instructors if you would like to proceed.\n",
        "\n",
        "1. Prepare EPR on two (remote) qubits on some topology.\n",
        "2. Prepare circuit for IBM Q.\n",
        "3. Set up quantum hardware,\n",
        "4. run on quantum hardware,\n",
        "5. interpreting noisy results.\n",
        "6. In practice, even idle gate is hard"
      ],
      "metadata": {
        "id": "d5frdmvHgpx1"
      }
    },
    {
      "cell_type": "markdown",
      "source": [
        "Challenge: The simplest thing in theory can be hard in practice. Try how long you can keep qubits idle, for example in |+⟩ state. If you have time, try to learn about the XY4 dynamical decoupling sequence."
      ],
      "metadata": {
        "id": "VTMe64r5kY_T"
      }
    }
  ]
}
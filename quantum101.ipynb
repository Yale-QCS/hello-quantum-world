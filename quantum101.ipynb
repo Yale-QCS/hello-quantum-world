{
  "nbformat": 4,
  "nbformat_minor": 0,
  "metadata": {
    "colab": {
      "provenance": [],
      "toc_visible": true,
      "authorship_tag": "ABX9TyOL67/Q1wfFY9VAN4vSFoCb",
      "include_colab_link": true
    },
    "kernelspec": {
      "name": "python3",
      "display_name": "Python 3"
    },
    "language_info": {
      "name": "python"
    }
  },
  "cells": [
    {
      "cell_type": "markdown",
      "metadata": {
        "id": "view-in-github",
        "colab_type": "text"
      },
      "source": [
        "<a href=\"https://colab.research.google.com/github/Yale-QCS/hello-quantum-world/blob/main/quantum101.ipynb\" target=\"_parent\"><img src=\"https://colab.research.google.com/assets/colab-badge.svg\" alt=\"Open In Colab\"/></a>"
      ]
    },
    {
      "cell_type": "markdown",
      "source": [
        "<h1> Welcome to ⟨hello|Quantum|world⟩!</h1>\n",
        "\n",
        "Get ready to discover the new frontier in computing and probe into the quantum world from your fingertips. In this tutorial, we will delve into the fundamental principles of quantum computing.\n",
        "\n",
        "## What will you learn?\n",
        "⟨hello|Quantum|world⟩ consists of two sessions:\n",
        "* session 1: Understanding quantum computing via QuTiP. (30-45 mins)\n",
        " * superposition, measurement, interference, entanglement\n",
        " * gate commutation relations, circuit simulations\n",
        " * Bloch sphere representation, phase kickback\n",
        "* session 2: Accessing actual quantum hardware via Qiskit. (30-45 mins)\n",
        " * Fending off decoherence.\n",
        " * Fighting systematic control errors.\n",
        "\n"
      ],
      "metadata": {
        "id": "a_XNQOceEmC_"
      }
    },
    {
      "cell_type": "markdown",
      "source": [
        "\n",
        "\n",
        "---\n",
        "\n"
      ],
      "metadata": {
        "id": "pnIe2FOQcJxw"
      }
    },
    {
      "cell_type": "markdown",
      "source": [
        "# Getting Started\n",
        "Install required packages:"
      ],
      "metadata": {
        "id": "HNe2ebhpr7vd"
      }
    },
    {
      "cell_type": "code",
      "source": [
        "pip install qutip qutip_qip"
      ],
      "metadata": {
        "colab": {
          "base_uri": "https://localhost:8080/"
        },
        "id": "lXvQkGp2sDe3",
        "outputId": "b8316922-20fc-49c8-81f1-7b32932191e8"
      },
      "execution_count": 1,
      "outputs": [
        {
          "output_type": "stream",
          "name": "stdout",
          "text": [
            "Looking in indexes: https://pypi.org/simple, https://us-python.pkg.dev/colab-wheels/public/simple/\n",
            "Collecting qutip\n",
            "  Downloading qutip-4.7.1-cp310-cp310-manylinux_2_17_x86_64.manylinux2014_x86_64.whl (16.2 MB)\n",
            "\u001b[2K     \u001b[90m━━━━━━━━━━━━━━━━━━━━━━━━━━━━━━━━━━━━━━━━\u001b[0m \u001b[32m16.2/16.2 MB\u001b[0m \u001b[31m45.9 MB/s\u001b[0m eta \u001b[36m0:00:00\u001b[0m\n",
            "\u001b[?25hCollecting qutip_qip\n",
            "  Downloading qutip_qip-0.2.3-py3-none-any.whl (105 kB)\n",
            "\u001b[2K     \u001b[90m━━━━━━━━━━━━━━━━━━━━━━━━━━━━━━━━━━━━━━━\u001b[0m \u001b[32m105.6/105.6 kB\u001b[0m \u001b[31m9.4 MB/s\u001b[0m eta \u001b[36m0:00:00\u001b[0m\n",
            "\u001b[?25hRequirement already satisfied: numpy>=1.16.6 in /usr/local/lib/python3.10/dist-packages (from qutip) (1.22.4)\n",
            "Requirement already satisfied: scipy>=1.0 in /usr/local/lib/python3.10/dist-packages (from qutip) (1.10.1)\n",
            "Requirement already satisfied: packaging in /usr/local/lib/python3.10/dist-packages (from qutip) (23.1)\n",
            "Installing collected packages: qutip, qutip_qip\n",
            "Successfully installed qutip-4.7.1 qutip_qip-0.2.3\n"
          ]
        }
      ]
    },
    {
      "cell_type": "markdown",
      "source": [
        "Set up programming envinroment:"
      ],
      "metadata": {
        "id": "uRw6HS3NAa0g"
      }
    },
    {
      "cell_type": "code",
      "source": [
        "from qutip import about\n",
        "from qutip import basis, fidelity, Bloch, tensor, rand_dm, rand_ket, mesolve\n",
        "from qutip import identity, sigmam, sigmax, sigmay, sigmaz\n",
        "from qutip_qip.operations import gate_sequence_product\n",
        "from qutip_qip.circuit import QubitCircuit, CircuitSimulator\n",
        "from qutip_qip.qasm import read_qasm, print_qasm\n",
        "import matplotlib.pyplot as plt\n",
        "import numpy as np\n",
        "from mpl_toolkits.mplot3d import Axes3D\n",
        "from qutip.ipynbtools import plot_animation\n",
        "from qutip.measurement import measure\n",
        "\n",
        "%matplotlib inline"
      ],
      "metadata": {
        "id": "DHGU_pXRAcGB"
      },
      "execution_count": 2,
      "outputs": []
    },
    {
      "cell_type": "markdown",
      "source": [
        "Verify environment (QuTiP Version: 4.7.1):"
      ],
      "metadata": {
        "id": "hzQ7sksBvQof"
      }
    },
    {
      "cell_type": "code",
      "source": [
        "about()"
      ],
      "metadata": {
        "colab": {
          "base_uri": "https://localhost:8080/"
        },
        "id": "DzKV6OxkvOmm",
        "outputId": "c7899abe-eea2-4d86-9b0c-54f265b13e99"
      },
      "execution_count": null,
      "outputs": [
        {
          "output_type": "stream",
          "name": "stdout",
          "text": [
            "\n",
            "QuTiP: Quantum Toolbox in Python\n",
            "================================\n",
            "Copyright (c) QuTiP team 2011 and later.\n",
            "Current admin team: Alexander Pitchford, Nathan Shammah, Shahnawaz Ahmed, Neill Lambert, Eric Giguère, Boxi Li, Jake Lishman, Simon Cross and Asier Galicia.\n",
            "Board members: Daniel Burgarth, Robert Johansson, Anton F. Kockum, Franco Nori and Will Zeng.\n",
            "Original developers: R. J. Johansson & P. D. Nation.\n",
            "Previous lead developers: Chris Granade & A. Grimsmo.\n",
            "Currently developed through wide collaboration. See https://github.com/qutip for details.\n",
            "\n",
            "QuTiP Version:      4.7.1\n",
            "Numpy Version:      1.22.4\n",
            "Scipy Version:      1.10.1\n",
            "Cython Version:     0.29.34\n",
            "Matplotlib Version: 3.7.1\n",
            "Python Version:     3.10.12\n",
            "Number of CPUs:     2\n",
            "BLAS Info:          OPENBLAS\n",
            "OPENMP Installed:   False\n",
            "INTEL MKL Ext:      False\n",
            "Platform Info:      Linux (x86_64)\n",
            "Installation path:  /usr/local/lib/python3.10/dist-packages/qutip\n",
            "================================================================================\n",
            "Please cite QuTiP in your publication.\n",
            "================================================================================\n",
            "For your convenience a bibtex reference can be easily generated using `qutip.cite()`\n"
          ]
        }
      ]
    },
    {
      "cell_type": "markdown",
      "source": [
        "\n",
        "\n",
        "---\n",
        "\n"
      ],
      "metadata": {
        "id": "wRbNpY9bb-FQ"
      }
    },
    {
      "cell_type": "markdown",
      "source": [
        "# Session 1 - Fundamentals of quantum programming"
      ],
      "metadata": {
        "id": "lz4uhA_4Oo--"
      }
    },
    {
      "cell_type": "markdown",
      "source": [
        "### Data types and operators\n",
        "\n",
        "Qubits are two-level quantum systems. For example, we use energy levels of natural or artificial atoms. The quantum information stored in qubits can be described mathematically by a superposition of basis states, such as |0⟩ and |1⟩."
      ],
      "metadata": {
        "id": "GXaFkgV22pG_"
      }
    },
    {
      "cell_type": "code",
      "execution_count": 3,
      "metadata": {
        "id": "9814KrrlEgHS"
      },
      "outputs": [],
      "source": [
        "ket_zero = basis(2,0)\n",
        "ket_one = basis(2,1)\n",
        "psi = 0.6*ket_zero + 0.8*ket_one"
      ]
    },
    {
      "cell_type": "markdown",
      "source": [
        "We can visualize the quantum state on a Bloch sphere:"
      ],
      "metadata": {
        "id": "pc9BGqDKqAFe"
      }
    },
    {
      "cell_type": "code",
      "source": [
        "b = Bloch()\n",
        "b.add_states(psi)\n",
        "b.show()"
      ],
      "metadata": {
        "colab": {
          "base_uri": "https://localhost:8080/",
          "height": 536
        },
        "id": "EMZ4uoqXrNL9",
        "outputId": "a007381c-ab79-4c49-e72d-dd3e747342c3"
      },
      "execution_count": null,
      "outputs": [
        {
          "output_type": "display_data",
          "data": {
            "text/plain": [
              "<Figure size 500x500 with 1 Axes>"
            ],
            "image/png": "[encoded data removed]"
          },
          "metadata": {}
        }
      ]
    },
    {
      "cell_type": "markdown",
      "source": [
        "Define common quantum states: |+⟩, |-⟩, |+i⟩, |-i⟩. It's important to note that all quantum states must be normalized, i.e., |𝛹⟩= α|0⟩ + β|1⟩, where |α|^2+|β|^2 = 1."
      ],
      "metadata": {
        "id": "eLwWx3Zjrg-M"
      }
    },
    {
      "cell_type": "code",
      "source": [
        "# Your implementation here\n",
        "ket_plus = (ket_zero + (1+0j)*ket_one).unit()\n",
        "ket_minus = rand_ket(2)\n",
        "ket_plus_i = rand_ket(2)\n",
        "ket_minus_i = rand_ket(2)"
      ],
      "metadata": {
        "id": "5nrY7t2mrft2"
      },
      "execution_count": 49,
      "outputs": []
    },
    {
      "cell_type": "markdown",
      "source": [
        "Multiple qubits represent a higher dimensional Hilbert space: |000⟩ = |0⟩⊗|0⟩⊗|0⟩"
      ],
      "metadata": {
        "id": "hGt8t65sxGbG"
      }
    },
    {
      "cell_type": "code",
      "source": [
        "ket_zeros = basis([2] * 3, [0] * 3)\n",
        "assert(ket_zeros == tensor(ket_zero,ket_zero,ket_zero))"
      ],
      "metadata": {
        "id": "yQaMRUFOxVx7"
      },
      "execution_count": null,
      "outputs": []
    },
    {
      "cell_type": "markdown",
      "source": [
        "What is |+++>?"
      ],
      "metadata": {
        "id": "6N5zQFulyG70"
      }
    },
    {
      "cell_type": "code",
      "source": [
        "# Your implementation here\n",
        "ket_pluses = rand_ket(8)"
      ],
      "metadata": {
        "id": "ndscFW58yQv1"
      },
      "execution_count": null,
      "outputs": []
    },
    {
      "cell_type": "markdown",
      "source": [
        "QuTiP has some useful built-in quantum gates:\n",
        "\n",
        "*   Hadamard gate: `snot(), 'SNOT'`\n",
        "*   Pauli X gate: `x_gate(), 'X'`\n",
        "*   Pauli X gate: `y_gate(), 'Y'`\n",
        "*   Pauli X gate: `z_gate(), 'Z'`\n",
        "*   CNOT gate: `cnot(), 'CNOT'`\n",
        "\n",
        "You can find more details about built-in operations by importing their associated object in QuTiP:\n"
      ],
      "metadata": {
        "id": "c-14AebawJmv"
      }
    },
    {
      "cell_type": "code",
      "source": [
        "from qutip_qip.operations import (Gate, snot, x_gate, y_gate, z_gate,\n",
        "                                  rx, ry, rz, cnot, cphase, swap, iswap,\n",
        "                                  sqrtnot, toffoli, fredkin,\n",
        "                                  gate_sequence_product, globalphase)"
      ],
      "metadata": {
        "id": "ko2OfGTFzmR0"
      },
      "execution_count": 4,
      "outputs": []
    },
    {
      "cell_type": "markdown",
      "source": [
        "Applying Hadamard gate twice does nothing, because multiplying two H gate matrices is equivalent to the identity, i.e., HH = I:"
      ],
      "metadata": {
        "id": "Ap8o-UbM2F-j"
      }
    },
    {
      "cell_type": "code",
      "source": [
        "U = gate_sequence_product([snot(), snot()])\n",
        "U.tidyup()\n",
        "U == identity(2)"
      ],
      "metadata": {
        "colab": {
          "base_uri": "https://localhost:8080/"
        },
        "id": "HEFFbdc02Lyq",
        "outputId": "8931cf11-68fe-4f66-d367-56ef311ff1ce"
      },
      "execution_count": null,
      "outputs": [
        {
          "output_type": "execute_result",
          "data": {
            "text/plain": [
              "True"
            ]
          },
          "metadata": {},
          "execution_count": 24
        }
      ]
    },
    {
      "cell_type": "markdown",
      "source": [
        "Which other gates are their own inverses?"
      ],
      "metadata": {
        "id": "BL02VExb5a7g"
      }
    },
    {
      "cell_type": "code",
      "source": [
        "# Your implementation here\n"
      ],
      "metadata": {
        "id": "_cq3hrPEYveY"
      },
      "execution_count": null,
      "outputs": []
    },
    {
      "cell_type": "markdown",
      "source": [
        "\n",
        "\n",
        "---\n",
        "\n"
      ],
      "metadata": {
        "id": "RRwySy0Zb6Kz"
      }
    },
    {
      "cell_type": "markdown",
      "source": [
        "### Quantum circuits\n",
        "\n",
        "Creating an EPR pair using a circuit of two qubits. We can output its associated \"assembly instructions\", which is a common low-level machine language that can be interpreted by a quantum hardware."
      ],
      "metadata": {
        "id": "fHWDOvetsoyR"
      }
    },
    {
      "cell_type": "code",
      "source": [
        "qc = QubitCircuit(2)\n",
        "qc.add_gate(\"SNOT\", targets=[0])\n",
        "qc.add_gate(\"CNOT\", targets=[1], controls=[0])\n",
        "print_qasm(qc)"
      ],
      "metadata": {
        "colab": {
          "base_uri": "https://localhost:8080/"
        },
        "id": "wFwnRZGgszST",
        "outputId": "b6784697-0e3f-4d1d-ced3-1f6480d5a200"
      },
      "execution_count": 5,
      "outputs": [
        {
          "output_type": "stream",
          "name": "stdout",
          "text": [
            "// QASM 2.0 file generated by QuTiP\n",
            "\n",
            "OPENQASM 2.0;\n",
            "include \"qelib1.inc\";\n",
            "\n",
            "qreg q[2];\n",
            "\n",
            "h q[0];\n",
            "cx q[0],q[1];\n"
          ]
        }
      ]
    },
    {
      "cell_type": "markdown",
      "source": [
        "In a quantum circuit, does the ordering of applying the gates matter? Whether we can reorder two gates is determined by their commutation relation. For example, because (I⊗X)(X⊗I) = (X⊗I)(I⊗X), the following two quantum circuits are equivalent:"
      ],
      "metadata": {
        "id": "eRPW9Eeu3DUm"
      }
    },
    {
      "cell_type": "code",
      "source": [
        "qc1 = QubitCircuit(2)\n",
        "qc1.add_gate(\"X\", targets=[0])\n",
        "qc1.add_gate(\"X\", targets=[1])\n",
        "\n",
        "qc2 = QubitCircuit(2)\n",
        "qc2.add_gate(\"X\", targets=[1])\n",
        "qc2.add_gate(\"X\", targets=[0])\n",
        "\n",
        "(gate_sequence_product(qc1.propagators()) == gate_sequence_product(qc2.propagators()))"
      ],
      "metadata": {
        "id": "N6L7EPQt3ICN",
        "colab": {
          "base_uri": "https://localhost:8080/"
        },
        "outputId": "7aa43dcb-0d33-4c39-e03a-b516c5265471"
      },
      "execution_count": 12,
      "outputs": [
        {
          "output_type": "execute_result",
          "data": {
            "text/plain": [
              "True"
            ]
          },
          "metadata": {},
          "execution_count": 12
        }
      ]
    },
    {
      "cell_type": "markdown",
      "source": [
        "Can you interchange the ordering of H gate and X gate on the same qubit?"
      ],
      "metadata": {
        "id": "YcVtSojkzc3o"
      }
    },
    {
      "cell_type": "code",
      "source": [
        "qc1 = QubitCircuit(1)\n",
        "qc1.add_gate(\"SNOT\", targets=[0])\n",
        "qc1.add_gate(\"X\", targets=[0])\n",
        "\n",
        "qc2 = QubitCircuit(1)\n",
        "qc2.add_gate(\"X\", targets=[0])\n",
        "qc2.add_gate(\"SNOT\", targets=[0])\n",
        "\n",
        "(gate_sequence_product(qc1.propagators()) == gate_sequence_product(qc2.propagators()))"
      ],
      "metadata": {
        "colab": {
          "base_uri": "https://localhost:8080/"
        },
        "id": "tNXAGpubz4xx",
        "outputId": "8d475d4d-61d3-4a2d-acbc-7771c0ec1007"
      },
      "execution_count": 15,
      "outputs": [
        {
          "output_type": "execute_result",
          "data": {
            "text/plain": [
              "False"
            ]
          },
          "metadata": {},
          "execution_count": 15
        }
      ]
    },
    {
      "cell_type": "markdown",
      "source": [
        "What about the following two circuits? Are they equivalent? Can you verify mathematically that's true?"
      ],
      "metadata": {
        "id": "SNT8OjDDz_KC"
      }
    },
    {
      "cell_type": "code",
      "source": [
        "qc1 = QubitCircuit(1)\n",
        "qc1.add_gate(\"SNOT\", targets=[0])\n",
        "qc1.add_gate(\"X\", targets=[0])\n",
        "\n",
        "qc2 = QubitCircuit(1)\n",
        "qc2.add_gate(\"Z\", targets=[0])\n",
        "qc2.add_gate(\"SNOT\", targets=[0])\n",
        "\n",
        "(gate_sequence_product(qc1.propagators()) == gate_sequence_product(qc2.propagators()))"
      ],
      "metadata": {
        "colab": {
          "base_uri": "https://localhost:8080/"
        },
        "id": "5oh7pnFv0QPZ",
        "outputId": "a916362e-a7cf-4346-9704-07c42f54353f"
      },
      "execution_count": 16,
      "outputs": [
        {
          "output_type": "execute_result",
          "data": {
            "text/plain": [
              "True"
            ]
          },
          "metadata": {},
          "execution_count": 16
        }
      ]
    },
    {
      "cell_type": "markdown",
      "source": [
        "Circuit simulation and reasoning over code. (Limited to small programs.)"
      ],
      "metadata": {
        "id": "UN45v3ai8Yjd"
      }
    },
    {
      "cell_type": "code",
      "source": [
        "qc = QubitCircuit(2)\n",
        "qc.add_gate(\"SNOT\", targets=[0])\n",
        "qc.add_gate(\"CNOT\", targets=[1], controls=[0])\n",
        "#print_qasm(qc)\n",
        "print(\"\\n===Simulation Results===\\n\")\n",
        "initial_state = tensor(ket_zero, ket_zero)\n",
        "sim = CircuitSimulator(qc)\n",
        "print(\"Initial state:\\n\" , initial_state)\n",
        "results = sim.run(state=initial_state)\n",
        "print(\"Final state:\\n\", results.final_states)"
      ],
      "metadata": {
        "id": "20pCww0X8heo",
        "colab": {
          "base_uri": "https://localhost:8080/"
        },
        "outputId": "20bc0b6c-230b-40a3-d524-2ffe5e5dc1c6"
      },
      "execution_count": 35,
      "outputs": [
        {
          "output_type": "stream",
          "name": "stdout",
          "text": [
            "// QASM 2.0 file generated by QuTiP\n",
            "\n",
            "OPENQASM 2.0;\n",
            "include \"qelib1.inc\";\n",
            "\n",
            "qreg q[2];\n",
            "\n",
            "h q[0];\n",
            "cx q[0],q[1];\n",
            "\n",
            "===Simulation Results===\n",
            "\n",
            "Initial state:\n",
            " Quantum object: dims = [[2, 2], [1, 1]], shape = (4, 1), type = ket\n",
            "Qobj data =\n",
            "[[1.]\n",
            " [0.]\n",
            " [0.]\n",
            " [0.]]\n",
            "Final state:\n",
            " [Quantum object: dims = [[2, 2], [1, 1]], shape = (4, 1), type = ket\n",
            "Qobj data =\n",
            "[[0.70710678]\n",
            " [0.        ]\n",
            " [0.        ]\n",
            " [0.70710678]]]\n"
          ]
        }
      ]
    },
    {
      "cell_type": "markdown",
      "source": [
        "\n",
        "\n",
        "---\n",
        "\n"
      ],
      "metadata": {
        "id": "kJU7wHKtb22g"
      }
    },
    {
      "cell_type": "markdown",
      "source": [
        "### Interference and entanglement\n",
        "\n",
        "In the lecture, we saw how applying a Hadamard gate on the |+⟩=|0⟩+|1⟩ state will cause the state to interfere constructively on |0⟩ and destructively on |1⟩. What if the qubit was entangled with another qubit, will the interference pattern look different? Specifically, what would happen if we apply a Hadamard gate to the first qubit of |00⟩+|11⟩?"
      ],
      "metadata": {
        "id": "FScpJ5EJ88ST"
      }
    },
    {
      "cell_type": "code",
      "source": [
        "qc = QubitCircuit(2, num_cbits=1)\n",
        "qc.add_gate(\"SNOT\", targets=[0])\n",
        "qc.add_gate(\"CNOT\", targets=[1], controls=[0])\n",
        "qc.add_gate(\"SNOT\", targets=[0])\n",
        "qc.add_measurement(\"M0\", targets=[0], classical_store=0)\n",
        "print_qasm(qc)"
      ],
      "metadata": {
        "id": "FLADVQcGGMEP",
        "colab": {
          "base_uri": "https://localhost:8080/"
        },
        "outputId": "69a1a24d-a5e8-4b43-feca-a61ff7b31de5"
      },
      "execution_count": 37,
      "outputs": [
        {
          "output_type": "stream",
          "name": "stdout",
          "text": [
            "// QASM 2.0 file generated by QuTiP\n",
            "\n",
            "OPENQASM 2.0;\n",
            "include \"qelib1.inc\";\n",
            "\n",
            "qreg q[2];\n",
            "creg c[1];\n",
            "\n",
            "h q[0];\n",
            "cx q[0],q[1];\n",
            "h q[0];\n",
            "measure q[0] -> c[0]\n"
          ]
        }
      ]
    },
    {
      "cell_type": "markdown",
      "source": [
        "Does the CNOT gate change the state of the control qubit? Check result from measuring the first qubit, which include the measurement outcome, the remaining state of the second qubit, and their associated probability."
      ],
      "metadata": {
        "id": "XF5BNPAg7HV8"
      }
    },
    {
      "cell_type": "code",
      "source": [
        "initial = tensor(ket_zero, ket_zero)\n",
        "results = qc.run_statistics(initial)\n",
        "for cbit, state, prob in zip(results.cbits, results.final_states, results.probabilities):\n",
        "    print(\"Measurement result: {}\\nState:\\n{}\\nwith probability {}\\n\".format(cbit,state, prob))"
      ],
      "metadata": {
        "colab": {
          "base_uri": "https://localhost:8080/"
        },
        "id": "1tDulC3R7Grk",
        "outputId": "65b87398-3696-479c-dcbc-ab5c5dc90533"
      },
      "execution_count": 46,
      "outputs": [
        {
          "output_type": "stream",
          "name": "stdout",
          "text": [
            "Measurement result: [0]\n",
            "State:\n",
            "Quantum object: dims = [[2, 2], [1, 1]], shape = (4, 1), type = ket\n",
            "Qobj data =\n",
            "[[0.70710678]\n",
            " [0.70710678]\n",
            " [0.        ]\n",
            " [0.        ]]\n",
            "with probability 0.4999999999999998\n",
            "\n",
            "Measurement result: [1]\n",
            "State:\n",
            "Quantum object: dims = [[2, 2], [1, 1]], shape = (4, 1), type = ket\n",
            "Qobj data =\n",
            "[[ 0.        ]\n",
            " [ 0.        ]\n",
            " [ 0.70710678]\n",
            " [-0.70710678]]\n",
            "with probability 0.4999999999999998\n",
            "\n"
          ]
        }
      ]
    },
    {
      "cell_type": "markdown",
      "source": [
        "What if we change the initial state?"
      ],
      "metadata": {
        "id": "K8XY6A9Z-VaZ"
      }
    },
    {
      "cell_type": "code",
      "source": [
        "initial = tensor(ket_zero, ket_plus)\n",
        "results = qc.run_statistics(initial)\n",
        "for cbit, state, prob in zip(results.cbits, results.final_states, results.probabilities):\n",
        "    print(\"Measurement result: {}\\nState:\\n{}\\nwith probability {}\\n\".format(cbit, state, prob))"
      ],
      "metadata": {
        "colab": {
          "base_uri": "https://localhost:8080/"
        },
        "id": "ioEMvf8e-X4Q",
        "outputId": "b1f727b0-701b-4338-b703-3457b6777f6b"
      },
      "execution_count": 52,
      "outputs": [
        {
          "output_type": "stream",
          "name": "stdout",
          "text": [
            "Measurement result: [0]\n",
            "State:\n",
            "Quantum object: dims = [[2, 2], [1, 1]], shape = (4, 1), type = ket\n",
            "Qobj data =\n",
            "[[0.70710678]\n",
            " [0.70710678]\n",
            " [0.        ]\n",
            " [0.        ]]\n",
            "with probability 0.9999999999999996\n",
            "\n"
          ]
        }
      ]
    },
    {
      "cell_type": "markdown",
      "source": [
        "Notice that the two qubits stay unentangled. This is because |+> is an eigenstate of X gate with eigenvalue 1, i.e., X|+> = |+>. So the CX gate does not have any effect on the second qubit.\n",
        "\n",
        "What about |0->?"
      ],
      "metadata": {
        "id": "bM1C05ji_AJo"
      }
    },
    {
      "cell_type": "code",
      "source": [
        "initial = tensor(ket_zero, ket_minus)\n",
        "results = qc.run_statistics(initial)\n",
        "for cbit, state, prob in zip(results.cbits, results.final_states, results.probabilities):\n",
        "    print(\"Measurement result: {}\\nState:\\n{}\\nwith probability {}\\n\".format(cbit, state, prob))"
      ],
      "metadata": {
        "colab": {
          "base_uri": "https://localhost:8080/"
        },
        "id": "GQXJTecw_CzE",
        "outputId": "1b2460c1-0373-4be1-ff24-388cb5ec0e0e"
      },
      "execution_count": 53,
      "outputs": [
        {
          "output_type": "stream",
          "name": "stdout",
          "text": [
            "Measurement result: [1]\n",
            "State:\n",
            "Quantum object: dims = [[2, 2], [1, 1]], shape = (4, 1), type = ket\n",
            "Qobj data =\n",
            "[[ 0.        ]\n",
            " [ 0.        ]\n",
            " [ 0.70710678]\n",
            " [-0.70710678]]\n",
            "with probability 0.9999999999999996\n",
            "\n"
          ]
        }
      ]
    },
    {
      "cell_type": "markdown",
      "source": [
        "Here the two qubits are |-> is an eigenstate of X but with eigenvalue -1. So after the CX gate, the control qubit picks up a phase: |-->.\n",
        "\n",
        "This phenomenon is called \"phase kickback\", a technique widely used in quantum algorithms, such as the Bernstein-Vazirani algorithm and the phase estimation algorithm."
      ],
      "metadata": {
        "id": "mH4JVrjfAwCD"
      }
    },
    {
      "cell_type": "markdown",
      "source": [
        "\n",
        "\n",
        "---\n",
        "\n"
      ],
      "metadata": {
        "id": "vtziZeJNbyKw"
      }
    },
    {
      "cell_type": "markdown",
      "source": [
        "### Flipping quantum coins\n",
        "\n",
        "Suppose your quantum physcist friend has promised to send you multiple identical quantum coins, which store some unknown quantum state (in our case we use `rand_ket(2)` to simulate). Can you use the following measurement experiments to determine the state of the coin? Feel free to verify its Bloch sphere coordinates via plotting `Bloch()`."
      ],
      "metadata": {
        "id": "XGgTbgoQKBeV"
      }
    },
    {
      "cell_type": "code",
      "source": [
        "def one_shot_measure(qc, input, n):\n",
        "  results = qc.run_statistics(input)\n",
        "  prob = results.probabilities\n",
        "  bits = [np.binary_repr(i, width=n) for i in range(2**n)]\n",
        "  return np.random.choice(bits, 1, p=prob)\n",
        "\n",
        "def flip_quantum_coins(coins, n, axis='z'):\n",
        "  qc = QubitCircuit(n, num_cbits=n)\n",
        "  for i in range(n):\n",
        "    if axis == 'x':\n",
        "      qc.add_gate(\"SNOT\", targets=[i])\n",
        "      qc.add_measurement(\"M0\", targets=[i], classical_store=0)\n",
        "    elif axis == 'y':\n",
        "      qc.add_gate(\"S\", targets=[i])\n",
        "      qc.add_gate(\"SNOT\", targets=[i])\n",
        "      qc.add_measurement(\"M0\", targets=[i], classical_store=0)\n",
        "    elif axis == 'z':\n",
        "      qc.add_measurement(\"M0\", targets=[i], classical_store=0)\n",
        "    else:\n",
        "      print(\"Axis {} not supported.\\n\".format(axis))\n",
        "  #print_qasm(qc)\n",
        "  results = one_shot_measure(qc, coins, n)\n",
        "  return results\n",
        "\n",
        "coin = rand_ket(2)\n",
        "coins = tensor(coin, coin, coin, coin)\n",
        "x_val = 0\n",
        "results = flip_quantum_coins(coin, 4, 'z')\n",
        "# Can you use flip_quantum_coins to estiamte the coin's x, y, z coordinates in the Bloch sphere?"
      ],
      "metadata": {
        "id": "bh2FWrhpYt8f",
        "colab": {
          "base_uri": "https://localhost:8080/"
        },
        "outputId": "ead2e621-fdab-45a9-d91f-155595877950"
      },
      "execution_count": 76,
      "outputs": [
        {
          "output_type": "stream",
          "name": "stdout",
          "text": [
            "['0100']\n"
          ]
        }
      ]
    },
    {
      "cell_type": "markdown",
      "source": [
        "\n",
        "\n",
        "---\n",
        "\n"
      ],
      "metadata": {
        "id": "uWklAGqtcAjk"
      }
    },
    {
      "cell_type": "markdown",
      "source": [
        "# Session 2 - Probing quantum hardware\n",
        "\n",
        "1. Prepare EPR on two (remote) qubits on some topology.\n",
        "2. Prepare circuit for IBM Q.\n",
        "3. Set up quantum hardware,\n",
        "4. run on quantum hardware,\n",
        "5. interpreting noisy results.\n",
        "6. In practice, even idle gate is hard"
      ],
      "metadata": {
        "id": "d5frdmvHgpx1"
      }
    },
    {
      "cell_type": "code",
      "source": [],
      "metadata": {
        "id": "4xYJ_lXdPCwa"
      },
      "execution_count": null,
      "outputs": []
    },
    {
      "cell_type": "markdown",
      "source": [
        "The simplest thing in theory can be hard in practice. Keeping qubits idle... XY4 sequence, then alternating sequence."
      ],
      "metadata": {
        "id": "VTMe64r5kY_T"
      }
    },
    {
      "cell_type": "markdown",
      "source": [
        "# New Section"
      ],
      "metadata": {
        "id": "ZAtWFGOmgt2C"
      }
    }
  ]
}